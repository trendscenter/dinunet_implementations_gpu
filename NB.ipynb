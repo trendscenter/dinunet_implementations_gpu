{
 "cells": [
  {
   "cell_type": "code",
   "execution_count": 2,
   "metadata": {},
   "outputs": [],
   "source": [
    "import glob\n",
    "import numpy as np\n",
    "import matplotlib.pyplot as plt\n",
    "import pandas as pd\n",
    "import seaborn as sns\n",
    "import os\n",
    "import itertools\n",
    "from PIL import Image as IMG"
   ]
  },
  {
   "cell_type": "code",
   "execution_count": 2,
   "metadata": {},
   "outputs": [],
   "source": [
    "prfas = glob.glob('pooled_log/*_prfa.txt')"
   ]
  },
  {
   "cell_type": "code",
   "execution_count": 19,
   "metadata": {},
   "outputs": [],
   "source": [
    "scores = [['Experiment','Score','Value']]\n",
    "for p in prfas:\n",
    "    if 'global' in p:\n",
    "        continue\n",
    "    prfa = open(p).readline()\n",
    "    p,r,f1,a = [float(a) for a in prfa[1:-1].split(',')]\n",
    "    scores.append(['Pooled', 'Precision', p])\n",
    "    scores.append(['Pooled', 'Recall', r])\n",
    "    scores.append(['Pooled', 'F1', f1])\n",
    "    scores.append(['Pooled', 'Accuracy', a])"
   ]
  },
  {
   "cell_type": "code",
   "execution_count": 20,
   "metadata": {},
   "outputs": [],
   "source": [
    "for s in range(6, 10):\n",
    "    prfa = open(f'test/output/remote/simulatorRun/vbm/{s}/test_log.csv').readlines()[1]\n",
    "    prfa = prfa.strip().split(',')\n",
    "    _, p,r,f1,a = [float(a) for a in prfa]\n",
    "    scores.append(['Distributed', 'Precision', p])\n",
    "    scores.append(['Distributed', 'Recall', r])\n",
    "    scores.append(['Distributed', 'F1', f1])\n",
    "    scores.append(['Distributed', 'Accuracy', a])"
   ]
  },
  {
   "cell_type": "code",
   "execution_count": 21,
   "metadata": {},
   "outputs": [
    {
     "data": {
      "image/png": "[encoded data removed]",
      "text/plain": [
       "<Figure size 1152x648 with 1 Axes>"
      ]
     },
     "metadata": {
      "needs_background": "light"
     },
     "output_type": "display_data"
    }
   ],
   "source": [
    "df = pd.DataFrame(scores[1:], columns=scores[0])\n",
    "plt.rcParams['figure.figsize'] = 16, 9\n",
    "sns.set_context(\"talk\")\n",
    "plt.title('10-Fold CV')\n",
    "ax = sns.boxplot(x='Experiment', y='Value', hue='Score', \n",
    "                 data=df, linewidth=3, dodge=True, width=0.2)"
   ]
  },
  {
   "cell_type": "markdown",
   "metadata": {},
   "source": [
    "- Batch size: 16\n",
    "- Epochs: 50"
   ]
  },
  {
   "cell_type": "code",
   "execution_count": 24,
   "metadata": {},
   "outputs": [],
   "source": [
    "# IMG.open('/home/ak/Pictures/heap out of memory.png')"
   ]
  },
  {
   "cell_type": "code",
   "execution_count": 4,
   "metadata": {},
   "outputs": [],
   "source": [
    "choices = []\n",
    "axises = [0, 1, 2]\n",
    "for i in range(len(axises)):\n",
    "    choices += list(itertools.combinations(axises, i + 1))"
   ]
  },
  {
   "cell_type": "code",
   "execution_count": 13,
   "metadata": {},
   "outputs": [
    {
     "data": {
      "text/plain": [
       "[(0,), (1,), (2,), (0, 1), (0, 2), (1, 2), (0, 1, 2)]"
      ]
     },
     "execution_count": 13,
     "metadata": {},
     "output_type": "execute_result"
    }
   ],
   "source": [
    "choices"
   ]
  },
  {
   "cell_type": "code",
   "execution_count": 6,
   "metadata": {},
   "outputs": [],
   "source": [
    "import nibabel as ni"
   ]
  },
  {
   "cell_type": "code",
   "execution_count": 11,
   "metadata": {},
   "outputs": [
    {
     "name": "stdout",
     "output_type": "stream",
     "text": [
      "(121, 145, 121)\n"
     ]
    }
   ],
   "source": [
    "obj = ni.load('test/input/local0/simulatorRun/nifti_file_S00/M02101222_swc1t1avg.nii')\n",
    "arr = np.array(obj.dataobj)\n",
    "print(arr.shape)"
   ]
  },
  {
   "cell_type": "code",
   "execution_count": 12,
   "metadata": {},
   "outputs": [
    {
     "name": "stdout",
     "output_type": "stream",
     "text": [
      "(121, 145, 121)\n",
      "(121, 145, 121)\n",
      "(121, 145, 121)\n",
      "(121, 145, 121)\n",
      "(121, 145, 121)\n",
      "(121, 145, 121)\n",
      "(121, 145, 121)\n"
     ]
    }
   ],
   "source": [
    "for c in choices:\n",
    "    a = arr.copy()\n",
    "    a = np.flip(a, c)\n",
    "    print(a.shape)"
   ]
  },
  {
   "cell_type": "code",
   "execution_count": null,
   "metadata": {},
   "outputs": [],
   "source": []
  },
  {
   "cell_type": "code",
   "execution_count": null,
   "metadata": {},
   "outputs": [],
   "source": []
  }
 ],
 "metadata": {
  "kernelspec": {
   "display_name": "Python 3",
   "language": "python",
   "name": "python3"
  },
  "language_info": {
   "codemirror_mode": {
    "name": "ipython",
    "version": 3
   },
   "file_extension": ".py",
   "mimetype": "text/x-python",
   "name": "python",
   "nbconvert_exporter": "python",
   "pygments_lexer": "ipython3",
   "version": "3.8.2"
  }
 },
 "nbformat": 4,
 "nbformat_minor": 4
}
