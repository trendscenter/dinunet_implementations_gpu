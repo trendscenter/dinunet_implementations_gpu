{
 "cells": [
  {
   "cell_type": "code",
   "execution_count": 29,
   "metadata": {},
   "outputs": [],
   "source": [
    "import os\n",
    "from core.utils import create_k_fold_splits\n",
    "sep = os.sep\n",
    "import numpy as np\n",
    "from torch.utils.data import Dataset, DataLoader\n",
    "\n"
   ]
  },
  {
   "cell_type": "code",
   "execution_count": 22,
   "metadata": {},
   "outputs": [],
   "source": [
    "sites = [0, 1 ,2, 3]"
   ]
  },
  {
   "cell_type": "code",
   "execution_count": 23,
   "metadata": {},
   "outputs": [],
   "source": [
    "# for site in sites:\n",
    "#     pth = f'test/input/local{site}/simulatorRun'\n",
    "#     create_k_fold_splits(os.listdir(pth+sep+f'nifti_file_S0{site}'), k=10,\n",
    "#                          save_to_dir=pth+sep+f'split_S0{site}')"
   ]
  },
  {
   "cell_type": "code",
   "execution_count": 24,
   "metadata": {},
   "outputs": [],
   "source": [
    "import nibabel as ni\n",
    "import torchvision.transforms as tmf"
   ]
  },
  {
   "cell_type": "code",
   "execution_count": 25,
   "metadata": {},
   "outputs": [],
   "source": [
    "nf = ni.load('test/input/local0/simulatorRun/nifti_file_S00/M02101222_swc1t1avg.nii').dataobj"
   ]
  },
  {
   "cell_type": "code",
   "execution_count": 43,
   "metadata": {},
   "outputs": [],
   "source": [
    "nf = np.array(nf)"
   ]
  },
  {
   "cell_type": "code",
   "execution_count": 45,
   "metadata": {},
   "outputs": [
    {
     "data": {
      "text/plain": [
       "(121, 145, 121)"
      ]
     },
     "execution_count": 45,
     "metadata": {},
     "output_type": "execute_result"
    }
   ],
   "source": [
    "nf.shape"
   ]
  },
  {
   "cell_type": "code",
   "execution_count": 47,
   "metadata": {},
   "outputs": [
    {
     "data": {
      "text/plain": [
       "(1, 121, 145, 121)"
      ]
     },
     "execution_count": 47,
     "metadata": {},
     "output_type": "execute_result"
    }
   ],
   "source": [
    "nf[None, :].shape"
   ]
  },
  {
   "cell_type": "code",
   "execution_count": 28,
   "metadata": {},
   "outputs": [],
   "source": [
    "class NiftiDataset(Dataset):\n",
    "    def __init__(self, **kw):\n",
    "        self.files_dir = kw['files_dir']\n",
    "        self.labels_dir = kw['labels_file']\n",
    "        self.mode = kw['mode']\n",
    "        self.indices = []\n",
    "\n",
    "    def load_indices(self, files, **kw):\n",
    "        labels_file = os.listdir(self.labels_dir)[0]\n",
    "        labels = pd.read_csv(self.labels_dir + os.sep + labels_file).set_index('niftifile')\n",
    "        for file in files:\n",
    "            y = labels.loc[file]['label']\n",
    "            \"\"\"\n",
    "            int64 could not be json serializable.\n",
    "            \"\"\"\n",
    "            self.indices.append([file, int(y)])\n",
    "\n",
    "    def __getitem__(self, ix):\n",
    "        file, y = self.indices[ix]\n",
    "        nif = np.array(ni.load(self.files_dir + sep + file).dataobj)\n",
    "        return {'inputs': torch.tensor(nif), 'labels': torch.tensor(y)}\n",
    "\n",
    "    def __len__(self):\n",
    "        return len(self.indices)\n",
    "    \n",
    "    def get_transformations(self):\n",
    "        return tmf.Compose([tmf.RandomHorizontalFlip, tmf.RandomVerticalFlip])\n",
    "        \n",
    "\n",
    "    def get_loader(self, shuffle=False, batch_size=None, num_workers=0, pin_memory=True, **kw):\n",
    "        return NNDataLoader.get_loader(dataset=self, shuffle=shuffle, batch_size=batch_size,\n",
    "                                       num_workers=num_workers, pin_memory=pin_memory, **kw)\n",
    "    \n",
    "    \n"
   ]
  },
  {
   "cell_type": "code",
   "execution_count": 42,
   "metadata": {},
   "outputs": [],
   "source": [
    "import torch.nn as nn\n",
    "\n",
    "\n",
    "class MSANNet(nn.Module):\n",
    "    def __init__(self, in_size, hidden_sizes, out_size, dropout_in=[]):\n",
    "        super(MSANNet, self).__init__()\n",
    "        self.in_size = in_size\n",
    "        self.out_size = out_size\n",
    "        self.hidden_sizes = hidden_sizes\n",
    "        self.layers = nn.ModuleList()\n",
    "\n",
    "        current_dim = self.in_size\n",
    "        for i, h_dim in enumerate(hidden_sizes):\n",
    "            if i in dropout_in:\n",
    "                layers = [nn.Linear(current_dim, h_dim, bias=False), nn.BatchNorm1d(h_dim), nn.ReLU(),\n",
    "                          nn.Dropout(p=0.5)]\n",
    "            else:\n",
    "                layers = [nn.Linear(current_dim, h_dim, bias=False), nn.BatchNorm1d(h_dim), nn.ReLU()]\n",
    "\n",
    "            self.layers.append(nn.Sequential(*layers))\n",
    "            current_dim = h_dim\n",
    "\n",
    "        self.fc_out = nn.Linear(current_dim, out_size)\n",
    "\n",
    "    def forward(self, x):\n",
    "        for layer in self.layers:\n",
    "            x = layer(x)\n",
    "\n",
    "        return self.fc_out(x)\n"
   ]
  },
  {
   "cell_type": "code",
   "execution_count": null,
   "metadata": {},
   "outputs": [],
   "source": []
  },
  {
   "cell_type": "code",
   "execution_count": null,
   "metadata": {},
   "outputs": [],
   "source": []
  }
 ],
 "metadata": {
  "kernelspec": {
   "display_name": "Python 3",
   "language": "python",
   "name": "python3"
  },
  "language_info": {
   "codemirror_mode": {
    "name": "ipython",
    "version": 3
   },
   "file_extension": ".py",
   "mimetype": "text/x-python",
   "name": "python",
   "nbconvert_exporter": "python",
   "pygments_lexer": "ipython3",
   "version": "3.8.2"
  }
 },
 "nbformat": 4,
 "nbformat_minor": 4
}
