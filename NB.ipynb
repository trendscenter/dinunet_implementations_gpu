{
 "cells": [
  {
   "cell_type": "code",
   "execution_count": 1,
   "metadata": {},
   "outputs": [],
   "source": [
    "import numpy as np"
   ]
  },
  {
   "cell_type": "code",
   "execution_count": 43,
   "metadata": {},
   "outputs": [],
   "source": [
    "import torch\n",
    "from torch.utils.data import Dataset, DataLoader, ConcatDataset, ChainDataset"
   ]
  },
  {
   "cell_type": "code",
   "execution_count": 30,
   "metadata": {},
   "outputs": [],
   "source": [
    "class D1(Dataset):\n",
    "    def __init__(self, **kw):\n",
    "        self.indices = range(1, 21)\n",
    "    \n",
    "    def __getitem__(self, ix):\n",
    "            return self.indices[ix]\n",
    "        \n",
    "    def __len__(self):\n",
    "        return len(self.indices)"
   ]
  },
  {
   "cell_type": "code",
   "execution_count": 31,
   "metadata": {},
   "outputs": [],
   "source": [
    "class D2(Dataset):\n",
    "    def __init__(self, **kw):\n",
    "        self.indices = range(21, 41)\n",
    "    \n",
    "    def __getitem__(self, ix):\n",
    "            return self.indices[ix]\n",
    "        \n",
    "    def __len__(self):\n",
    "        return len(self.indices)"
   ]
  },
  {
   "cell_type": "code",
   "execution_count": 32,
   "metadata": {},
   "outputs": [],
   "source": [
    "class D3(Dataset):\n",
    "    def __init__(self, **kw):\n",
    "        self.indices = range(41, 61)\n",
    "    \n",
    "    def __getitem__(self, ix):\n",
    "            return self.indices[ix]\n",
    "        \n",
    "    def __len__(self):\n",
    "        return len(self.indices)"
   ]
  },
  {
   "cell_type": "code",
   "execution_count": 51,
   "metadata": {},
   "outputs": [],
   "source": [
    "d1 = D1()\n",
    "d2 = D2()\n",
    "d3 = D3()\n",
    "cd = ConcatDataset([d1, d2, d3])"
   ]
  },
  {
   "cell_type": "code",
   "execution_count": 52,
   "metadata": {},
   "outputs": [],
   "source": [
    "loader = DataLoader(dataset=cd, batch_size=8, shuffle=True)"
   ]
  },
  {
   "cell_type": "code",
   "execution_count": 53,
   "metadata": {},
   "outputs": [
    {
     "name": "stdout",
     "output_type": "stream",
     "text": [
      "tensor([49, 40, 23, 26, 16, 22, 45, 48])\n",
      "tensor([28, 41, 47,  6, 18, 37, 51,  7])\n",
      "tensor([58, 31, 11, 50, 14,  2, 34, 55])\n",
      "tensor([59, 17, 19,  8, 39, 13, 15, 38])\n",
      "tensor([57, 10, 44,  1, 35,  5, 54, 42])\n",
      "tensor([30, 12, 32, 43,  4, 56, 21, 60])\n",
      "tensor([29, 27, 24, 25, 20, 46, 53, 36])\n",
      "tensor([52,  9, 33,  3])\n"
     ]
    }
   ],
   "source": [
    "for batch in loader:\n",
    "    print(batch)"
   ]
  },
  {
   "cell_type": "code",
   "execution_count": null,
   "metadata": {},
   "outputs": [],
   "source": []
  }
 ],
 "metadata": {
  "kernelspec": {
   "display_name": "Python 3",
   "language": "python",
   "name": "python3"
  },
  "language_info": {
   "codemirror_mode": {
    "name": "ipython",
    "version": 3
   },
   "file_extension": ".py",
   "mimetype": "text/x-python",
   "name": "python",
   "nbconvert_exporter": "python",
   "pygments_lexer": "ipython3",
   "version": "3.8.2"
  }
 },
 "nbformat": 4,
 "nbformat_minor": 4
}
